{
 "cells": [
  {
   "cell_type": "code",
   "execution_count": 5,
   "id": "511aa587",
   "metadata": {},
   "outputs": [],
   "source": [
    "def BMI():\n",
    "    tinggi = float(input(\"masukkan tinggi badan anda: \"))\n",
    "    berat = float(input(\"masukkan berat badan anda: \"))\n",
    "    \n",
    "    bmi = berat/(tinggi/100)**2\n",
    "    if bmi >= 16.0 and bmi <= 18.5:\n",
    "        return \"kurus\", bmi\n",
    "    elif bmi >= 18.5 and bmi <= 25.0:\n",
    "        return \"normal\", bmi\n",
    "    elif bmi >= 25.0 and bmi <= 40.0:\n",
    "        return \"gemuk\", bmi\n",
    "    elif bmi >= 40.0 and bmi <= 60.0:\n",
    "        return \"obesitas\", bmi\n",
    "    else:\n",
    "        print(\"anda adalah titan\")\n",
    "    quotes, bmi = BMI()\n",
    "    print(\"bmi kamu adalah: {} dan kamu sekarang: {}\".format(bmi, quotes))"
   ]
  },
  {
   "cell_type": "code",
   "execution_count": 6,
   "id": "b851b109",
   "metadata": {},
   "outputs": [
    {
     "name": "stdout",
     "output_type": "stream",
     "text": [
      "masukkan tinggi badan anda: 164\n",
      "masukkan berat badan anda: 50\n"
     ]
    },
    {
     "data": {
      "text/plain": [
       "('normal', 18.590124925639504)"
      ]
     },
     "execution_count": 6,
     "metadata": {},
     "output_type": "execute_result"
    }
   ],
   "source": [
    "BMI()"
   ]
  }
 ],
 "metadata": {
  "kernelspec": {
   "display_name": "Python 3 (ipykernel)",
   "language": "python",
   "name": "python3"
  },
  "language_info": {
   "codemirror_mode": {
    "name": "ipython",
    "version": 3
   },
   "file_extension": ".py",
   "mimetype": "text/x-python",
   "name": "python",
   "nbconvert_exporter": "python",
   "pygments_lexer": "ipython3",
   "version": "3.10.2"
  }
 },
 "nbformat": 4,
 "nbformat_minor": 5
}
